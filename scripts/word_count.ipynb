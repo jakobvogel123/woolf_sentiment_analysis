{
 "cells": [
  {
   "cell_type": "code",
   "execution_count": 1,
   "metadata": {},
   "outputs": [],
   "source": [
    "#with this script, we create a csv-file containing the names of all relevant books by Virginia Woolf and the amount of all words as well as the amount of distinct words and a calculated value representing a creativity-score, meaning the amount of distinct words per 1000 words for each book\n",
    "\n",
    "import os\n",
    "import nltk\n",
    "import string\n",
    "import pandas as pd"
   ]
  },
  {
   "cell_type": "code",
   "execution_count": 2,
   "metadata": {},
   "outputs": [
    {
     "data": {
      "text/plain": [
       "['1915 The Voyage Out.txt',\n",
       " '1920 Night and Day.txt',\n",
       " '1921 Monday or Tuesday.txt',\n",
       " \"1922 Jacob's Room.txt\",\n",
       " '1925 Mrs Dalloway.txt',\n",
       " '1927 To the Lighthouse.txt',\n",
       " '1928 Orlando.txt',\n",
       " '1931 The Waves.txt',\n",
       " '1933 Flush.txt',\n",
       " '1937 The Years.txt',\n",
       " '1941 Between the Acts.txt']"
      ]
     },
     "execution_count": 2,
     "metadata": {},
     "output_type": "execute_result"
    }
   ],
   "source": [
    "#define path where all Woolf-files are stored\n",
    "path_of_folder = \"C:\\\\Users\\\\Jakob\\\\Desktop\\\\Werkzeuge Hausarbeit\\\\Virginia_Woolf_Files\\\\Bearbeitete_Downloads\"\n",
    "\n",
    "#check folder to get an overview over the files\n",
    "os.listdir(path_of_folder)"
   ]
  },
  {
   "cell_type": "code",
   "execution_count": 3,
   "metadata": {},
   "outputs": [],
   "source": [
    "#create an iterator for all files in the folder\n",
    "file_iter = os.scandir(path_of_folder)"
   ]
  },
  {
   "cell_type": "code",
   "execution_count": 4,
   "metadata": {},
   "outputs": [],
   "source": [
    "#use the iterator to open every file. Extract the name of the book from the file name\n",
    "#extract the complete text from the file by iterating over every line and appending it to the string \"text\" if it does not start with \"chapter\" and - as it is the case in \"To the Lighthouse\", where chapters are given numbers - if it does not contain a number only\n",
    "#save each book name and its text in a dictionary\n",
    "\n",
    "all_texts = {}\n",
    "\n",
    "for f in file_iter:\n",
    "    myfile = open(path_of_folder + \"\\\\\" + f.name, 'r', encoding='utf-8')\n",
    "    f_name = f.name[5:-4]\n",
    "    text = \"\"\n",
    "    \n",
    "    for line in myfile.readlines():\n",
    "        if (line.lower().startswith(\"chapter\")) or (line.strip().isdigit()):\n",
    "            continue\n",
    "        else:\n",
    "            text += line\n",
    "    #replace \\n-annotation in the string \"text\" with normal whitespace      \n",
    "    text = text.replace('\\n', ' ')\n",
    "    all_texts[f_name] = text\n",
    "    myfile.close()\n",
    "     "
   ]
  },
  {
   "cell_type": "code",
   "execution_count": 5,
   "metadata": {},
   "outputs": [],
   "source": [
    "#iterate over all texts, tokenize it with the nltk, and create a list of all words of every book. Save the book name and a list of its words to a new dictionary\n",
    "\n",
    "words_all_texts = {}\n",
    "\n",
    "for key in all_texts:\n",
    "    sent_list = nltk.sent_tokenize(all_texts[key])\n",
    "    words_list = []\n",
    "    for sent in sent_list:\n",
    "        words_list_per_sent = nltk.word_tokenize(sent)\n",
    "        words_list.extend(words_list_per_sent)\n",
    "    words_all_texts[key]=words_list\n",
    "    "
   ]
  },
  {
   "cell_type": "code",
   "execution_count": 6,
   "metadata": {},
   "outputs": [],
   "source": [
    "#in the following cells, we will count the amount of distinct words as well as the total amount of words to get some sort of creativity-score for each book\n",
    "#before that, however, we lowercase each text and remove all punctuation marks as both English capitalization and punctuation do not testify to a person's literary creativity\n",
    "\n",
    "for key in words_all_texts:\n",
    "    new_word_list = []\n",
    "    for word in words_all_texts[key]:\n",
    "        if word in string.punctuation:\n",
    "            continue\n",
    "        else:\n",
    "            new_word_list.append(word.lower())\n",
    "    words_all_texts[key]=new_word_list"
   ]
  },
  {
   "cell_type": "code",
   "execution_count": 7,
   "metadata": {},
   "outputs": [],
   "source": [
    "#iterate over the new dictionary. Count how many distinct words every book has by trying to add them to a set; which will only accept new/unique items. Save the book name and the length of the created set to a new list\n",
    "\n",
    "count_words_distinct = []\n",
    "\n",
    "for key in words_all_texts:\n",
    "    word_set = set()\n",
    "    for word in words_all_texts[key]:\n",
    "        word_set.add(word)\n",
    "    count_words_distinct.append(len(word_set))"
   ]
  },
  {
   "cell_type": "code",
   "execution_count": 8,
   "metadata": {},
   "outputs": [],
   "source": [
    "#iterate over that dictionary again. Count how many words there are in total\n",
    "\n",
    "count_words_total = []\n",
    "\n",
    "for key in words_all_texts:\n",
    "    word_amount = len(words_all_texts[key])\n",
    "    count_words_total.append(word_amount)"
   ]
  },
  {
   "cell_type": "code",
   "execution_count": 9,
   "metadata": {},
   "outputs": [],
   "source": [
    "#now calculate the amount of new words per 1000 words in total. This will be our creativity-score\n",
    "\n",
    "distinct_words_per_1000_words = []\n",
    "\n",
    "for i in range(0,len(count_words_distinct)):\n",
    "    new_words_per_word = count_words_distinct[i]/count_words_total[i]\n",
    "    distinct_words_per_1000_words.append(new_words_per_word*1000)\n",
    "    "
   ]
  },
  {
   "cell_type": "code",
   "execution_count": 10,
   "metadata": {},
   "outputs": [],
   "source": [
    "#create a DataFrame out of the results of the last operations\n",
    "\n",
    "df_word_count = pd.DataFrame(columns = ['name', 'count_words_total', 'count_words_distinct', 'distinct_words_per_1000_words'])\n",
    "\n",
    "index = 0\n",
    "for key in words_all_texts:\n",
    "    df_word_count = df_word_count.append({'name':key, 'count_words_total':count_words_total[index], 'count_words_distinct':count_words_distinct[index], 'distinct_words_per_1000_words': distinct_words_per_1000_words[index]}, ignore_index = True)\n",
    "    index += 1"
   ]
  },
  {
   "cell_type": "code",
   "execution_count": 11,
   "metadata": {
    "scrolled": true
   },
   "outputs": [
    {
     "data": {
      "text/html": [
       "<div>\n",
       "<style scoped>\n",
       "    .dataframe tbody tr th:only-of-type {\n",
       "        vertical-align: middle;\n",
       "    }\n",
       "\n",
       "    .dataframe tbody tr th {\n",
       "        vertical-align: top;\n",
       "    }\n",
       "\n",
       "    .dataframe thead th {\n",
       "        text-align: right;\n",
       "    }\n",
       "</style>\n",
       "<table border=\"1\" class=\"dataframe\">\n",
       "  <thead>\n",
       "    <tr style=\"text-align: right;\">\n",
       "      <th></th>\n",
       "      <th>name</th>\n",
       "      <th>count_words_total</th>\n",
       "      <th>count_words_distinct</th>\n",
       "      <th>distinct_words_per_1000_words</th>\n",
       "    </tr>\n",
       "  </thead>\n",
       "  <tbody>\n",
       "    <tr>\n",
       "      <th>0</th>\n",
       "      <td>The Voyage Out</td>\n",
       "      <td>146530</td>\n",
       "      <td>10929</td>\n",
       "      <td>74.585409</td>\n",
       "    </tr>\n",
       "    <tr>\n",
       "      <th>1</th>\n",
       "      <td>Night and Day</td>\n",
       "      <td>177794</td>\n",
       "      <td>11734</td>\n",
       "      <td>65.997728</td>\n",
       "    </tr>\n",
       "    <tr>\n",
       "      <th>2</th>\n",
       "      <td>Monday or Tuesday</td>\n",
       "      <td>19637</td>\n",
       "      <td>3796</td>\n",
       "      <td>193.308550</td>\n",
       "    </tr>\n",
       "    <tr>\n",
       "      <th>3</th>\n",
       "      <td>Jacob's Room</td>\n",
       "      <td>57977</td>\n",
       "      <td>7450</td>\n",
       "      <td>128.499232</td>\n",
       "    </tr>\n",
       "    <tr>\n",
       "      <th>4</th>\n",
       "      <td>Mrs Dalloway</td>\n",
       "      <td>65816</td>\n",
       "      <td>7150</td>\n",
       "      <td>108.636198</td>\n",
       "    </tr>\n",
       "    <tr>\n",
       "      <th>5</th>\n",
       "      <td>To the Lighthouse</td>\n",
       "      <td>71214</td>\n",
       "      <td>6813</td>\n",
       "      <td>95.669391</td>\n",
       "    </tr>\n",
       "    <tr>\n",
       "      <th>6</th>\n",
       "      <td>Orlando</td>\n",
       "      <td>80442</td>\n",
       "      <td>9452</td>\n",
       "      <td>117.500808</td>\n",
       "    </tr>\n",
       "    <tr>\n",
       "      <th>7</th>\n",
       "      <td>The Waves</td>\n",
       "      <td>78626</td>\n",
       "      <td>8924</td>\n",
       "      <td>113.499351</td>\n",
       "    </tr>\n",
       "    <tr>\n",
       "      <th>8</th>\n",
       "      <td>Flush</td>\n",
       "      <td>35311</td>\n",
       "      <td>5293</td>\n",
       "      <td>149.896633</td>\n",
       "    </tr>\n",
       "    <tr>\n",
       "      <th>9</th>\n",
       "      <td>The Years</td>\n",
       "      <td>138161</td>\n",
       "      <td>8568</td>\n",
       "      <td>62.014606</td>\n",
       "    </tr>\n",
       "    <tr>\n",
       "      <th>10</th>\n",
       "      <td>Between the Acts</td>\n",
       "      <td>48288</td>\n",
       "      <td>6535</td>\n",
       "      <td>135.333830</td>\n",
       "    </tr>\n",
       "  </tbody>\n",
       "</table>\n",
       "</div>"
      ],
      "text/plain": [
       "                 name count_words_total count_words_distinct  \\\n",
       "0      The Voyage Out            146530                10929   \n",
       "1       Night and Day            177794                11734   \n",
       "2   Monday or Tuesday             19637                 3796   \n",
       "3        Jacob's Room             57977                 7450   \n",
       "4        Mrs Dalloway             65816                 7150   \n",
       "5   To the Lighthouse             71214                 6813   \n",
       "6             Orlando             80442                 9452   \n",
       "7           The Waves             78626                 8924   \n",
       "8               Flush             35311                 5293   \n",
       "9           The Years            138161                 8568   \n",
       "10   Between the Acts             48288                 6535   \n",
       "\n",
       "    distinct_words_per_1000_words  \n",
       "0                       74.585409  \n",
       "1                       65.997728  \n",
       "2                      193.308550  \n",
       "3                      128.499232  \n",
       "4                      108.636198  \n",
       "5                       95.669391  \n",
       "6                      117.500808  \n",
       "7                      113.499351  \n",
       "8                      149.896633  \n",
       "9                       62.014606  \n",
       "10                     135.333830  "
      ]
     },
     "execution_count": 11,
     "metadata": {},
     "output_type": "execute_result"
    }
   ],
   "source": [
    "#check if DataFrame-setup worked\n",
    "df_word_count"
   ]
  },
  {
   "cell_type": "code",
   "execution_count": 12,
   "metadata": {},
   "outputs": [],
   "source": [
    "#export the DataFrame to a csv-file to be able to work with it later\n",
    "df_word_count.to_csv(r'C:\\\\Users\\\\Jakob\\\\Desktop\\\\Werkzeuge Hausarbeit\\\\Ergebnisse\\\\word_count.csv', index=False)"
   ]
  },
  {
   "cell_type": "code",
   "execution_count": null,
   "metadata": {},
   "outputs": [],
   "source": []
  }
 ],
 "metadata": {
  "kernelspec": {
   "display_name": "Python 3",
   "language": "python",
   "name": "python3"
  },
  "language_info": {
   "codemirror_mode": {
    "name": "ipython",
    "version": 3
   },
   "file_extension": ".py",
   "mimetype": "text/x-python",
   "name": "python",
   "nbconvert_exporter": "python",
   "pygments_lexer": "ipython3",
   "version": "3.8.3"
  }
 },
 "nbformat": 4,
 "nbformat_minor": 4
}
